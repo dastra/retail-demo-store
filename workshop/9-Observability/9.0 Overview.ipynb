{
 "cells": [
  {
   "cell_type": "markdown",
   "source": [
    "# Retail Demo Store Observability Workshop - Overview\n",
    "\n",
    "Welcome to the Retail Demo Store Observability Workshop. When developing and running an application, observability is an important factor in evaluating how it performs for your users and quickly identifying and resolving issues. The three primary aspects of observability are logs, metrics, and traces. In this workshop we will explore how we can use Cloudwatch RUM for monitoring how real users are experiencing the website, using traces in X-Ray to track a request through different parts of the application, view the application's logs in Cloudwatch Logs and use [ServiceLens](https://docs.aws.amazon.com/AmazonCloudWatch/latest/monitoring/ServiceLens.html) to tie all of this together and provide an end-to-end view of your application.\n",
    "\n",
    "## Terms\n",
    "\n",
    "### Real User Monitoring\n",
    "\n",
    "With CloudWatch RUM, you can perform real user monitoring to collect and view client-side data about your web application performance from actual user sessions in near real time. The data that you can visualize and analyze includes page load times, client-side errors, and user behavior. When you view this data, you can see it all aggregated together and also see breakdowns by the browsers and devices that your customers use.\n",
    "\n",
    "You can use the collected data to quickly identify and debug client-side performance issues. CloudWatch RUM helps you visualize anomalies in your application performance and find relevant debugging data such as error messages, stack traces, and user sessions. You can also use RUM to understand the range of end user impact including the number of users, geolocations, and browsers used.\n",
    "\n",
    "### Tracing\n",
    "\n",
    "AWS X-Ray is a service that collects data about requests that your application serves, and provides tools that you can use to view, filter, and gain insights into that data to identify issues and opportunities for optimization. For any traced request to your application, you can see detailed information not only about the request and response, but also about calls that your application makes to downstream AWS resources, microservices, databases, and web APIs.\n",
    "\n",
    "Instrumenting your application involves sending trace data for incoming and outbound requests and other events within your application, along with metadata about each request. Many instrumentation scenarios require only configuration changes. For example, you can instrument all incoming HTTP requests and downstream calls to AWS services that your Java application makes.\n",
    "\n",
    "AWS services that are integrated with X-Ray can add tracing headers to incoming requests and send trace data to X-Ray. The trace ID is added to HTTP requests in an HTTP header named X-Amzn-Trace-Id. The first X-Ray-integrated service that the request hits adds a tracing header, which is read by the X-Ray SDK and included in the response.  The X-Ray SDK also adds the ID for the original request to the tracing header of any downstream request.  An instrumented application that serves the downstream request can record the parent segment ID to connect the two requests.\n",
    "\n",
    "### \n"
   ],
   "metadata": {
    "collapsed": false
   }
  }
 ],
 "metadata": {
  "kernelspec": {
   "display_name": "Python 3",
   "language": "python",
   "name": "python3"
  },
  "language_info": {
   "codemirror_mode": {
    "name": "ipython",
    "version": 2
   },
   "file_extension": ".py",
   "mimetype": "text/x-python",
   "name": "python",
   "nbconvert_exporter": "python",
   "pygments_lexer": "ipython2",
   "version": "2.7.6"
  }
 },
 "nbformat": 4,
 "nbformat_minor": 0
}
